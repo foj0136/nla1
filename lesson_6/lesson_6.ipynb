{
 "cells": [
  {
   "attachments": {},
   "cell_type": "markdown",
   "metadata": {},
   "source": [
    "# Domácí úkol č. 4\n",
    "\n",
    "V tomto domácím úkolu budeme řešit soustavu $\\mathsf{A}\\mathbf{x}=\\mathbf{b}$ se symetrickou pozitivně definitní maticí pomocí metody největšího spádu."
   ]
  },
  {
   "cell_type": "code",
   "execution_count": 2,
   "metadata": {},
   "outputs": [],
   "source": [
    "# Zavolejte tuto bunku, cimz vytvorime nahodnou symetrickou pozitivne definitni matici\n",
    "\n",
    "import numpy as np\n",
    "\n",
    "np.random.seed(42)  # Nastavíme seed pro generátor náhodných čísel, abychom vždy dostali stejnou matici\n",
    "\n",
    "n = 10\n",
    "U = np.triu(np.random.rand(n, n), 1)\n",
    "d = 100 * np.random.rand(n, 1)\n",
    "A = np.diag(d.flatten()) + U + U.T  # matice soustavy\n",
    "b = np.random.rand(n, 1)            # vektor prave strany\n",
    "x0 = np.zeros((n, 1))               # pocatecni odhad reseni"
   ]
  },
  {
   "cell_type": "code",
   "execution_count": 3,
   "metadata": {},
   "outputs": [],
   "source": [
    "import numpy as np\n",
    "\n",
    "def steepest_descent(A, b, x0, tol, max_it):\n",
    "    \"\"\"\n",
    "    Resi system Ax=b s SPD matici A.\n",
    "    A: matice soustavy\n",
    "    b: vektor prave strany\n",
    "    x0: pocatecni odhad\n",
    "    tol: relativni presnost\n",
    "    max_it: maximalni pocet iteraci\n",
    "    \"\"\"\n",
    "\n",
    "    # citac iteraci\n",
    "    k = 0   \n",
    "\n",
    "    # vektor pocatecniho rezidua\n",
    "    x = x0\n",
    "    r = b - A @ x\n",
    "    residuals = [np.linalg.norm(r)]\n",
    "\n",
    "    # pro vypocet ukoncovaci podminky\n",
    "    r_init = np.linalg.norm(b - np.dot(A, x0))\n",
    "    \n",
    "    # hlavni smycka\n",
    "    while k < max_it and (np.linalg.norm(b - np.dot(A, x)) / r_init > tol):\n",
    "        Adotr = A @ r\n",
    "        # vypocet x_{k+1}\n",
    "        alpha = (r.T @ r) / (r.T @ Adotr)\n",
    "        x = x + alpha * r\n",
    "\n",
    "        # vypocet r_{k+1}\n",
    "        r = r - alpha * Adotr\n",
    "\n",
    "        # navysime citac iteraci\n",
    "        k += 1\n",
    "\n",
    "        # ulozime reziduum\n",
    "        residuals.append(np.linalg.norm(r) / r_init)\n",
    "\n",
    "    return x, k, residuals"
   ]
  },
  {
   "cell_type": "code",
   "execution_count": 4,
   "metadata": {},
   "outputs": [
    {
     "name": "stdout",
     "output_type": "stream",
     "text": [
      "Vase funkce steepestDescent pravdepodobne pracuje spravne.\n",
      "\n",
      "Pocty iteraci metody nejvetsiho spadu: \n",
      "[34, 100, 234]\n"
     ]
    }
   ],
   "source": [
    "# Zavolame vami upravenou funkci:\n",
    "x, k, _ = steepest_descent(A, b, x0, 1e-12, 1000)\n",
    "\n",
    "# Otestujeme, zda je reseni v poradku\n",
    "x_matlab = np.linalg.solve(A, b)\n",
    "n = np.linalg.norm(x - x_matlab)\n",
    "\n",
    "if n < 1e-8:\n",
    "    print(\"Vase funkce steepestDescent pravdepodobne pracuje spravne.\\n\")\n",
    "else:\n",
    "    print(\"Ve funkci steepestDescent nejspis chyba.\\n\")\n",
    "\n",
    "# Priklad 2\n",
    "# Pomoci metody steepestDescent_ex vyreste soustavu s ruznou presnosti.\n",
    "# Zapiste pocty iteraci potrebne k dosazeni dane presnosti do tabulky:\n",
    "x, k1, _ = steepest_descent(A, b, x0, 0.01, 2000)\n",
    "x, k2, _ = steepest_descent(A, b, x0, 0.0001, 2000)\n",
    "x, k3, residuals = steepest_descent(A, b, x0, 1e-8, 2000)\n",
    "\n",
    "print(\"Pocty iteraci metody nejvetsiho spadu: \")\n",
    "print([k1, k2, k3])\n",
    "\n",
    "# Doplnte tabulku\n",
    "# Metoda nejvetsiho spadu:\n",
    "# tol = 0.01,   k =\n",
    "# tol = 0.0001, k =\n",
    "# tol = 1e-8,   k ="
   ]
  },
  {
   "cell_type": "code",
   "execution_count": 5,
   "metadata": {},
   "outputs": [
    {
     "data": {
      "image/png": "[encoded data removed]",
      "text/plain": [
       "<Figure size 432x288 with 1 Axes>"
      ]
     },
     "metadata": {
      "needs_background": "light"
     },
     "output_type": "display_data"
    }
   ],
   "source": [
    "# Nakonec vykreslime graf normy rezidua v zavislosti na iteraci do \n",
    "# semilogaritmickeho grafu\n",
    "import matplotlib.pyplot as plt\n",
    "plt.semilogy(range(k3+1), residuals)\n",
    "plt.xlabel('Iterace')\n",
    "plt.ylabel('Relativni norma rezidua')\n",
    "plt.title('Konvergence pro tol=1e-8')\n",
    "plt.grid(True)\n",
    "plt.show()"
   ]
  }
 ],
 "metadata": {
  "kernelspec": {
   "display_name": "Python 3",
   "language": "python",
   "name": "python3"
  },
  "language_info": {
   "codemirror_mode": {
    "name": "ipython",
    "version": 3
   },
   "file_extension": ".py",
   "mimetype": "text/x-python",
   "name": "python",
   "nbconvert_exporter": "python",
   "pygments_lexer": "ipython3",
   "version": "3.10.6"
  },
  "orig_nbformat": 4
 },
 "nbformat": 4,
 "nbformat_minor": 2
}
