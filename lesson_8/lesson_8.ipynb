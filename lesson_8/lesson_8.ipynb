{
 "cells": [
  {
   "attachments": {},
   "cell_type": "markdown",
   "metadata": {},
   "source": [
    "# Cvičení 8\n",
    "\n",
    "## Využití QR rozkladu\n",
    "\n",
    "V první části tohoto cvičení se budeme zabývat aplikacemi QR rozkladu, konkrétně jeho využitím k řešení problému nejmeněích čtverců a k výpočtu spektrálního rozkladu matice."
   ]
  },
  {
   "attachments": {},
   "cell_type": "markdown",
   "metadata": {},
   "source": [
    "**ÚKOL**: Rozmyslete si nejdřív, jak se změní matice $\\mathsf{A}$ a vektor $\\mathbf{c}$ z přednášky o metodě nejmenších čtverců, pokud místo lineární funkce použijeme kvadratickou funkci ve tvaru $p(x) = c_1 + c_2 x + c_3 x^2$. \n",
    "\n",
    "Poté můžete pokračovat k dalšímu textu."
   ]
  },
  {
   "attachments": {},
   "cell_type": "markdown",
   "metadata": {},
   "source": [
    "### Metoda nejmenších čtverců\n",
    "\n",
    "Následující kód využívá metodu nejmenších čtverců k aproximaci naměřených dat kvadratickým polynomem ve tvaru $p(x) = c_1 + c_2 x + c_3 x^2$. \n",
    "\n",
    "1. V první části simulujeme měření  \n",
    "    - vygenerujeme několik diskrétních bodů $x$ na daném intervalu,\n",
    "    - v těchto bodech vyčíslíme kvadratickou funkci $f(x) = 0.1x^2 - x + 5$,\n",
    "    - vyčíslené hodnoty zatížíme náhodným šumem pomocí funkce `rand`,\n",
    "    - vykreslíme takto upravené body do grafu.\n",
    "2.  Sestavíme systémovou matici ve tvaru \n",
    "$$\\begin{bmatrix}\n",
    "1 & x_1 & x_1^2 \\\\\n",
    "1 & x_2 & x_2^2 \\\\\n",
    "  & \\vdots & \\\\\n",
    "1 & x_m & x_m^2  \n",
    "\\end{bmatrix}$$\n",
    "3. Protože kvadratická funkce je určena třemi parametry $c_1, c_2, c_3$, bude tentokrát i neznámý vektor mít délku 3.\n",
    "4. Určíme QR rozklad pomocí zabudované funkce numpy `qr`.\n",
    "5. Z vypočtené matice $\\mathsf{R}$ vytáhneme pouze potřebnou část $\\hat{\\mathsf{R}}$, určíme také vektor $\\hat{\\mathbf{y}}$.\n",
    "6. Pomocí $\\hat{\\mathsf{R}}, \\hat{\\mathbf{y}}$ určíme neznámý vektor $\\mathbf{c}$.\n",
    "\n",
    "**Tip**: K sestavení matice soustavy se vám bude hodit metoda `hstack`."
   ]
  },
  {
   "cell_type": "code",
   "execution_count": null,
   "metadata": {},
   "outputs": [],
   "source": [
    "import numpy as np\n",
    "import matplotlib.pyplot as plt\n",
    "\n",
    "# Aproximujme kvadratickym polynomem p(x) = c1 + c2 * x + c3 * x^2\n",
    "# namerena data tak, abychom minimalizovali\n",
    "# chybu ve smyslu nejmensich ctvercu\n",
    "\n",
    "# vygenerujme nejprve presna testovaci data s pouzitim funkce\n",
    "# p(x) = 5 - x + 0.1 * x^2\n",
    "x = np.arange(5, 8.2, 0.2)\n",
    "x = x[:, np.newaxis]\n",
    "y = 5 - x + 0.1 * x**2\n",
    "m = len(x)\n",
    "\n",
    "# zatizime vypoctena data nahodnym sumem - simulujeme mereni\n",
    "y = y + 0.04 * np.max(y) * (np.random.rand(y.shape[0], y.shape[1]) - 0.5)\n",
    "\n",
    "# vykreslime data zanesena sumem\n",
    "plt.figure()\n",
    "plt.plot(x, y, 'bo')\n",
    "plt.grid(True)\n",
    "plt.xlim([x[0] - 0.2, x[-1] + 0.2])\n",
    "plt.ylim([np.min(y) - 0.2, np.max(y) + 0.2])\n",
    "plt.xlabel('x')\n",
    "plt.ylabel('y')\n",
    "plt.legend(['namerena data'])\n",
    "\n",
    "# UKOL: Doplnte chybejici kod \n",
    "\n",
    "# sestavime systemovou matici\n",
    "A = \n",
    "\n",
    "# vypocteme uplny QR rozklad matice A (pouzijeme zabudovanou numpy funkci qr)\n",
    "Q, Rhat = \n",
    "\n",
    "# vybereme z matice R pouze odpovidajici blok\n",
    "R = \n",
    "\n",
    "# sestavime pomocny vektor y se striskou\n",
    "yhat = \n",
    "\n",
    "# najdeme koeficienty c\n",
    "c = \n",
    "\n",
    "print('Reseni problemu nejmensich ctvercu pomoci QR rozkladu.')\n",
    "print('Nalezena kvadraticka funkce aproximujici testovaci data nejlepe ve smyslu nejmensich ctvercu: ')\n",
    "print(f'p(x) = {c[0][0]:.2f} + {c[1][0]:.2f}x + {c[2][0]:.2f}x^2')\n",
    "\n",
    "# vykreslime aproximacni funkci\n",
    "xx = np.linspace(x[0], x[-1], 100)\n",
    "yy = c[0] + c[1] * xx + c[2] * xx**2\n",
    "plt.plot(xx, yy, 'g-', linewidth=2)\n",
    "plt.legend(['namerena data', 'nalezena aproximacni funkce'])\n",
    "plt.show()"
   ]
  },
  {
   "attachments": {},
   "cell_type": "markdown",
   "metadata": {},
   "source": [
    "### Spektrální rozklad\n",
    "\n",
    "Připomeňme, že pokud je $\\mathsf{A}$ reálná symetrická matice, pak existují ortogonální matice $\\mathsf{Q}$ a diagonální matice $\\mathsf{D}$ takové, že $\\mathsf{A} = \\mathsf{Q}\\mathsf{D}\\mathsf{Q}^T$. Diagonální prvky $\\mathsf{D}$ jsou vlastní čísla matice $\\mathsf{A}$, sloupce $\\mathsf{Q}$ jsou ortonormální vlastní vektory $\\mathsf{A}$. Této maticové dekompozici říkáme spektrální rozklad.\n",
    "\n",
    "Spektrální rozklad můžeme určit pomocí QR algoritmu (viz přednáška).\n",
    "\n",
    "**ÚKOL**: Vytvořte funkci `qdqt` implementující QR algoritmus pro hledání vlastních čísel a vlastních vektorů. Na vstupu bude mít reálnou symetrickou matici a požadovanou přesnost `eps`. Výstupem bude matice $\\mathsf{Q}$, jejíž sloupce budou tvořit vlastní vektory vstupní matice, vektor $\\mathbf{d}$ obsahující příslušná vlastní čísla a počet iterací potřebných k dosažené přesnosti. Využijte buď vámi vytvořenou funkci `my_qr` z předchozího cvičení, nebo zabudovanou funkci z NumPy."
   ]
  },
  {
   "cell_type": "code",
   "execution_count": 18,
   "metadata": {},
   "outputs": [],
   "source": [
    "# UKOL: Implementujte QR algoritmus\n",
    "import numpy as np\n",
    "\n",
    "def qdqt(A, eps=1e-5):\n",
    "    \"\"\"\n",
    "    QDQT Pocita spektralni rozklad pomoci QR algoritmu\n",
    "    Vraci ortogonalni matici Q (sloupce jsou ortonormalni vlastni vektory\n",
    "    A), vektor d obsahujici vlastni cisla matice A a pocet iteraci nutnych\n",
    "    k dosazeni reseni.\n",
    "    \"\"\"\n",
    "    \n",
    "\n",
    "    return Q, d, it"
   ]
  },
  {
   "cell_type": "code",
   "execution_count": null,
   "metadata": {},
   "outputs": [],
   "source": [
    "# Otestujeme vasi metodu\n",
    "\n",
    "# Symetricka realna matice\n",
    "\n",
    "A = np.array([[1, 2, 3], [2, 4, 5], [3, 5, 6]])\n",
    "\n",
    "# Zavolejme qdqt\n",
    "Q, d, it = qdqt(A)\n",
    "\n",
    "print(\"Vstupní matice A:\")\n",
    "print(A)\n",
    "print(\"\\nOrtogonální matice Q:\")\n",
    "print(Q)\n",
    "print(\"\\nVlastní čísla (diagonála D):\")\n",
    "print(d)\n",
    "print(\"\\nPočet iterací:\")\n",
    "print(it)\n",
    "\n",
    "# Overme, ze A = QDQ^T\n",
    "D = np.diag(d)\n",
    "A_reconstructed = Q @ D @ Q.T\n",
    "print(\"\\nMatice rekonstruovana z QDQ^T:\")\n",
    "print(A_reconstructed)\n",
    "print(\"\\nRozdil mezi vstupni matici A a rekonstruovanou matici:\")\n",
    "print(np.abs(A - A_reconstructed))\n",
    "\n",
    "print(\"\\nOverme, ze Q[:,0] je vlastni vektor a d[0] odpovidajici vlastni cislo:\")\n",
    "print('Av = {}'.format(A@Q[:,0]))\n",
    "print('lambda v = {}'.format(d[0]*Q[:,0]))"
   ]
  },
  {
   "attachments": {},
   "cell_type": "markdown",
   "metadata": {},
   "source": [
    "**BONUSOVÝ PŘÍKLAD**\n",
    "\n",
    "Upravte kód metody nejmenších čtverců tak, aby aproximoval vstupní data pomocí exponenciální funkce ve tvaru\n",
    "$$f(x) = c_1\\mathrm{e}^{c_2 x}.$$"
   ]
  },
  {
   "cell_type": "markdown",
   "metadata": {},
   "source": []
  }
 ],
 "metadata": {
  "kernelspec": {
   "display_name": "Python 3",
   "language": "python",
   "name": "python3"
  },
  "language_info": {
   "codemirror_mode": {
    "name": "ipython",
    "version": 3
   },
   "file_extension": ".py",
   "mimetype": "text/x-python",
   "name": "python",
   "nbconvert_exporter": "python",
   "pygments_lexer": "ipython3",
   "version": "3.11.3"
  },
  "orig_nbformat": 4
 },
 "nbformat": 4,
 "nbformat_minor": 2
}
