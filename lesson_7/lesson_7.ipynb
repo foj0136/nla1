{
 "cells": [
  {
   "attachments": {},
   "cell_type": "markdown",
   "metadata": {},
   "source": [
    "# Cvičení 7\n",
    "\n",
    "## Metoda sdružených gradientů\n",
    "\n",
    "V první části tohoto cvičení otestujeme metodu sdružených gradientů (CG). CG je gradientní iterační metoda, která vytváří posloupnost A-ortogonálních (sdružených) vektorů. Nový vektor je z předchozích určen pomocí postupu založeného na Gramově-Schmidtově ortogonalizaci. Využijte pseudokód z přednášky."
   ]
  },
  {
   "cell_type": "code",
   "execution_count": 1,
   "metadata": {},
   "outputs": [],
   "source": [
    "# ÚKOL: Doplňte chybějící kód ve while cyklu metody sdružených gradientů\n",
    "\n",
    "import numpy as np\n",
    "\n",
    "def conjugate_gradients(A, b, x0, tol, maxIt):\n",
    "    \"\"\"\n",
    "    Resi system Ax=b s SPD matici A pomoci metody sdruzenych gradientu.\n",
    "    A: matice soustavy\n",
    "    b: vektor prave strany\n",
    "    x0: pocatecni odhad\n",
    "    tol: relativni presnost\n",
    "    max_it: maximalni pocet iteraci\n",
    "    \"\"\"\n",
    "    \n",
    "    # citac iteraci\n",
    "    k = 0\n",
    "\n",
    "    # vektor pocatecniho rezidua a pocatecniho smeru\n",
    "    x = x0\n",
    "    r = b - np.dot(A, x)\n",
    "    d = r\n",
    "\n",
    "    # promenna pro ukladani r_{k+1}'*r_{k+1}\n",
    "    delta_new = np.dot(r.T, r)\n",
    "    # promenna pro ukladani r_{k}'*r_{k}\n",
    "    delta_old = 0\n",
    "\n",
    "    # pro vypocet ukoncovaci podminky\n",
    "    r_init = np.linalg.norm(b - np.dot(A, x0))\n",
    "\n",
    "    # main loop\n",
    "    while k < maxIt and (np.linalg.norm(b - np.dot(A, x)) / r_init > tol):\n",
    "        #  vypoctete alpha_k, x_{k+1} and r_{k+1}:\n",
    "\n",
    "        # vypoctete beta_k, d_{k+1}:\n",
    "\n",
    "        # inkrementujeme citac iteraci\n",
    "        k += 1\n",
    "        \n",
    "    return x, k"
   ]
  },
  {
   "cell_type": "code",
   "execution_count": null,
   "metadata": {},
   "outputs": [],
   "source": [
    "# Otestujeme vasi metodu\n",
    "\n",
    "n = 100\n",
    "U = np.triu(np.random.rand(n, n), 1)\n",
    "d = 100 * np.random.rand(n, 1)\n",
    "A = np.diag(d.flatten()) + U + U.T  # matice soustavy\n",
    "b = np.random.rand(n, 1)            # vektor prave strany\n",
    "x0 = np.zeros((n, 1))               # pocatecni odhad reseni\n",
    "\n",
    "x, k = conjugate_gradients(A, b, x0, 1e-8, 100)\n",
    "x_np = np.linalg.solve(A, b)\n",
    "print(\"Pocet iteraci: {}\".format(k))\n",
    "print(\"||x - x_np|| = {}\".format(np.linalg.norm(x - x_np)))"
   ]
  },
  {
   "cell_type": "code",
   "execution_count": null,
   "metadata": {},
   "outputs": [],
   "source": [
    "# UKOL: pravte metodu tak, aby vracela vektor residuals, na jehoz konec v kazde \n",
    "# iteraci ulozite aktualni normu rezidua.\n",
    "# Pote pomoci knihovny matplotlib vykreslete graf normy rezidua v zavislosti na iteraci.\n",
    "#\n",
    "# Graf by mel obsahovat: Nadpis (title), popisky os, mrizku (grid)\n",
    "#\n",
    "# Pro lepsi prehlednost se pokuste graf vykreslit take s logaritmickou skalou na ose y.\n",
    "import matplotlib.pyplot as plt\n",
    "\n"
   ]
  },
  {
   "attachments": {},
   "cell_type": "markdown",
   "metadata": {},
   "source": [
    "## Householderovy transformace, QR rozklad\n",
    "\n",
    "QR rozklad převádí matici $\\mathsf{A}$ na součin ortogonální a horní trojúhelníkové matice. Jedním ze způsobů, jak toho dosáhnout, je pomocí Householderových transformací. V následující části cvičení se tedy zaměříme na jejich využití při nulování prvků nějakého daného vektoru.\n",
    "\n",
    "Připomeňme, že Householderovu matici $\\mathsf{P}$, která daný vektor $\\mathbf{x}$ projektuje na vektor $\\mathsf{P}\\mathbf{x}=(\\|\\mathbf{x}\\|, 0, 0, \\ldots, 0)^T$ získáme jako\n",
    "$$\n",
    "\\mathsf{P} = \\mathsf{I} - 2\\frac{\\mathbf{v}\\mathbf{v}^T}{\\mathbf{v}^T\\mathbf{v}},\n",
    "$$\n",
    "kde pro vektor $\\mathbf{v}$ platí $\\mathbf{v} = -\\mathrm{sign}(x_1)\\|\\mathbf{x}\\|\\mathbf{e}_1-\\mathbf{x}$.\n",
    "\n",
    "Nejprve tedy vytvoříme pomocnou funkci `householder`, která pro vstupní vektor `x` vygeneruje Householderovu matici nulující druhý až poslední prvek."
   ]
  },
  {
   "cell_type": "code",
   "execution_count": 4,
   "metadata": {},
   "outputs": [],
   "source": [
    "import numpy as np\n",
    "\n",
    "def householder(x):\n",
    "    \"\"\"\n",
    "    Vrátí matici Householderovy transformace, která vynuluje prvky na druhé až \n",
    "    poslední pozici vstupního vektoru.\n",
    "    x: input vector\n",
    "    P: matice zrcadlení (Householderova matice)\n",
    "    \"\"\"\n",
    "\n",
    "    # UKOL: Doplnte kod funkce householder.\n",
    "    # Potrebujete:\n",
    "    # 1. urcit delku vektoru x\n",
    "    # 2. sestavit vektor e_1 = (1, 0, 0, ..., 0) odpovidajici delky  \n",
    "    # 3. sestavit vektor v\n",
    "    # 4. pomoci nej sestavit matici P a vratit ji\n",
    "\n",
    "    \n",
    "    "
   ]
  },
  {
   "cell_type": "code",
   "execution_count": null,
   "metadata": {},
   "outputs": [],
   "source": [
    "# UKOL: Otestujte vasi metodu. Vytvorte nahodny sloupcovy vektor, matici P\n",
    "# a ujistete se, ze po aplikaci matice na vektor ziskate vektor odpovidajicich vlastnosti\n",
    "# (tzn. ve tvaru (||x||, 0, 0, ..., 0) )\n",
    "\n",
    "v = np.random.rand(5, 1)\n",
    "P = householder(v)\n",
    "Pv = P@v\n",
    "print(Pv)\n",
    "print(np.linalg.norm(v))\n",
    "print(np.linalg.norm(Pv))"
   ]
  },
  {
   "attachments": {},
   "cell_type": "markdown",
   "metadata": {},
   "source": [
    "# Domácí úkol č. 5\n",
    "\n",
    "Doplňte následující kód funkce `my_qr`, která implementuje QR rozklad s použitím Householderovy transformace. Vyjděte z pseudokódu poskytnutého v přednáškách, ale modifikujte kód tak, aby využíval vámi vytvořenou metodu `householder` k výpočtu transformační matice.\n",
    "\n",
    "Nezapomeňte, že před aplikací musíte transformační matici umístit na vhodnou pozici v jednotkové matici, aby modifikovala pouze odpovídající prvky daného sloupce."
   ]
  },
  {
   "cell_type": "code",
   "execution_count": 6,
   "metadata": {},
   "outputs": [],
   "source": [
    "def my_qr(A):\n",
    "    \"\"\"\n",
    "    Funkce vrátí QR rozklad čtvercové matice A\n",
    "    \n",
    "    A: Vstupní matice\n",
    "    vraci Tuple (Q, R), kde Q je ortogonální matice a R je horní trojúhelníková matice\n",
    "    \"\"\"\n",
    "   \n",
    "    m, n = A.shape\n",
    "    if m != n:\n",
    "        raise ValueError(\"Matice neni ctvercova!\")\n",
    "\n",
    "    Q = np.eye(m)\n",
    "    R = A.copy()\n",
    "\n",
    "    # doplnte cyklus pres sloupce\n",
    "    # pro prislusnou cast aktualniho sloupce i sestavte transformacni matici P,\n",
    "    # updatujte R a Q\n",
    "        \n",
    "\n",
    "    return Q, R"
   ]
  },
  {
   "cell_type": "code",
   "execution_count": null,
   "metadata": {},
   "outputs": [],
   "source": [
    "# Otestujte vasi implementaci na malem prikladu:\n",
    "\n",
    "A = np.random.rand(5, 5)\n",
    "print(A)\n",
    "\n",
    "Q, R = my_qr(A)\n",
    "# A se musi rovnat QR\n",
    "print(Q@R)\n",
    "print(A-Q@R)"
   ]
  }
 ],
 "metadata": {
  "kernelspec": {
   "display_name": "Python 3",
   "language": "python",
   "name": "python3"
  },
  "language_info": {
   "codemirror_mode": {
    "name": "ipython",
    "version": 3
   },
   "file_extension": ".py",
   "mimetype": "text/x-python",
   "name": "python",
   "nbconvert_exporter": "python",
   "pygments_lexer": "ipython3",
   "version": "3.11.2"
  },
  "orig_nbformat": 4
 },
 "nbformat": 4,
 "nbformat_minor": 2
}
