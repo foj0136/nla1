{
 "cells": [
  {
   "attachments": {},
   "cell_type": "markdown",
   "metadata": {},
   "source": [
    "# Cvičení 9\n",
    "\n",
    "Tématem tohoto cvičení je využití singulárního rozkladu (singular value decomposition, SVD). Připomeňme, že každou matici lze rozložit na součin \n",
    "$$\\mathsf{A} = \\mathsf{U}\\mathsf{S}\\mathsf{V}^T,$$\n",
    "kde $\\mathsf{U}$ a $\\mathsf{V} jsou matice s orgotonálními sloupci (levé a pravé singulární vektory) a $$\\mathsf{S}$ je diagonální matice s kladnými singulárními čísly na diagonále (seřazenými od největšího po nejmenší).\n",
    "\n",
    "Singulární rozklad nám např. poskytuje možnost, jak najít nejlepší možnou aproximaci matice s danou hodností. Pokud má vstupní matice $\\mathsf{A}$ hodnost $r$, tak její nejlepší aproximaci o hodnosti $k$ získáme tak, že vynecháme posledních $r-k$ nenulových singulárních čísel v matici $\\mathsf{S}$ a odpovídající levé a pravé singulární vektory.\n",
    "\n",
    "Této vlastnosti lze využít např. pro komprimování obrázků (matic). Následující kód \n",
    "- načte ze souboru obrázek, převede jej do odstínů šedi a uloží v matici,\n",
    "- sestaví SVD rozklad matice pomocí zabudované `numpy` funkce,\n",
    "- vykreslí do grafu singulární čísla,\n",
    "- ve smyčce obrázek/matici \"komprimuje\" - najde její nejlepší aproximaci o dané hodnosti,\n",
    "- vypíše míru komprese a vykreslí komprimovaný obrázek."
   ]
  },
  {
   "cell_type": "code",
   "execution_count": null,
   "metadata": {},
   "outputs": [],
   "source": [
    "import numpy as np\n",
    "import matplotlib.pyplot as plt\n",
    "from matplotlib.image import imread\n",
    "from skimage.color import rgb2gray  # mozna bude treba zavolat \"pip install scikit-image\"\n",
    "\n",
    "# Komprese obrazku pomoci SVD\n",
    "\n",
    "# nacteni obrazku\n",
    "obrazek = 'Gauss.jpeg'\n",
    "# obrazek = 'windows.jpeg'\n",
    "# obrazek = 'lena.jpeg'\n",
    "\n",
    "inputImage = imread(obrazek)\n",
    "\n",
    "# prevedeme na grayscale obrazek a pretypujeme na double\n",
    "inputImageDouble = np.array(rgb2gray(inputImage), dtype=np.float64)\n",
    "plt.figure()\n",
    "plt.imshow(inputImageDouble, cmap='gray')\n",
    "\n",
    "m, n = inputImageDouble.shape\n",
    "\n",
    "# Velikost obrazku\n",
    "total_size_orig = m * n\n",
    "print(f\"Puvodni velikost: {total_size_orig}.\")\n",
    "\n",
    "# sestavime SVD rozklad (redukovany tvar)\n",
    "U, S, V = np.linalg.svd(inputImageDouble, full_matrices=False)\n",
    "\n",
    "plt.figure()\n",
    "plt.semilogy(S)\n",
    "plt.pause(1)\n",
    "\n",
    "# v iteracich postupne volime ruzny pocet pouzitych singularnich cisel -\n",
    "# miru komprese\n",
    "for r in [1, 2, 5, 10, 20, 30, 50, 100]:\n",
    "    U_compr = U[:, :r]\n",
    "    S_compr = np.diag(S[:r])\n",
    "    V_compr = V[:r, :]\n",
    "\n",
    "    total_size_compressed = m * r + r + n * r\n",
    "\n",
    "    print(f\"Nova velikost: {total_size_compressed} ({total_size_compressed / total_size_orig:.3f}).\")\n",
    "\n",
    "    # dekomprese obrazku (soucin orezanych matic)\n",
    "    outputImage = U_compr @ S_compr @ V_compr\n",
    "    caption = f'r={r}'\n",
    "    plt.figure()\n",
    "    plt.title(caption)\n",
    "    \n",
    "    plt.imshow(outputImage, cmap='gray')\n",
    "    plt.pause(1)\n",
    "\n",
    "plt.show()"
   ]
  }
 ],
 "metadata": {
  "kernelspec": {
   "display_name": "Python 3",
   "language": "python",
   "name": "python3"
  },
  "language_info": {
   "codemirror_mode": {
    "name": "ipython",
    "version": 3
   },
   "file_extension": ".py",
   "mimetype": "text/x-python",
   "name": "python",
   "nbconvert_exporter": "python",
   "pygments_lexer": "ipython3",
   "version": "3.11.3"
  },
  "orig_nbformat": 4
 },
 "nbformat": 4,
 "nbformat_minor": 2
}
