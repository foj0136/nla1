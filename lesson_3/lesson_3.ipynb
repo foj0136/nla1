{
 "cells": [
  {
   "attachments": {},
   "cell_type": "markdown",
   "metadata": {},
   "source": [
    "# Cvičení 3\n",
    "\n",
    "Tématem tohoto cvičení jsou přímé metody řešení soustav lineárních rovnic. Budeme se zabývat dopřednou a zpětnou substitucí a LU rozkladem."
   ]
  },
  {
   "attachments": {},
   "cell_type": "markdown",
   "metadata": {},
   "source": [
    "## Dopředná a zpětná substituce\n",
    "\n",
    "Základní princip přímých metod řešení soustav lineárních rovnic je převod matice soustavy na součin trojúhelníkových matic, např. \n",
    "$$\\mathsf{A} = \\mathsf{L}\\mathsf{U}.$$\n",
    "Soustavu $\\mathsf{A}\\mathbf{x} = \\mathbf{b}$ tak převedeme na tvar\n",
    "$$\\mathsf{L}\\mathsf{U}\\mathbf{x} = \\mathbf{b}$$\n",
    "a vyřešíme ji ve dvou krocích \n",
    "1) $\\mathsf{L}\\mathbf{y}=\\mathbf{b}$\n",
    "2) $\\mathsf{U}\\mathbf{x}=\\mathbf{y}$\n",
    "pomocí dopředné a zpětné substituce.\n",
    "\n",
    "V této části cvičení tedy nejdříve implementujeme funkce pro dopřednou a zpětnou substituci, které později využijeme k řešení soustav.\n",
    "\n",
    "### Testovací matice\n",
    "\n",
    "Nejprve vygenerujte testovací matice, pomocí kterých později zjistíte, zda vaše funkce pracují správně. Budete k tomu potřebovat\n",
    "- funkci z knihovny NumPy, pomocí které vygenerujete náhodnou matici o daném rozměru (znáte z prvního cvičení),\n",
    "- funkce `triu`, `tril` z knihovny NumPy (zjistěte v dokumentaci nebo pomocí Googlu, k čemu slouží a jak se používají)"
   ]
  },
  {
   "cell_type": "code",
   "execution_count": 188,
   "metadata": {},
   "outputs": [],
   "source": [
    "# ÚKOL: importujte potřebnou knihovnu NumPy pod zkratkou np\n",
    "import numpy as np"
   ]
  },
  {
   "cell_type": "code",
   "execution_count": 189,
   "metadata": {},
   "outputs": [
    {
     "name": "stdout",
     "output_type": "stream",
     "text": [
      "[[0.772 0.336 0.531 0.97 ]\n",
      " [0.991 0.094 0.895 0.157]\n",
      " [0.655 0.554 0.162 0.445]\n",
      " [0.391 0.819 0.039 0.734]]\n"
     ]
    }
   ],
   "source": [
    "# ÚKOL: vygenerujte matici A náhodných čísel o rozměrech 4x4\n",
    "A = np.random.rand(4, 4)\n",
    "\n",
    "np.set_printoptions(precision=3) # pro lepší přehlednost\n",
    "print(A)"
   ]
  },
  {
   "cell_type": "code",
   "execution_count": 190,
   "metadata": {},
   "outputs": [
    {
     "name": "stdout",
     "output_type": "stream",
     "text": [
      "[[0.772 0.336 0.531 0.97 ]\n",
      " [0.    0.094 0.895 0.157]\n",
      " [0.    0.    0.162 0.445]\n",
      " [0.    0.    0.    0.734]]\n",
      "---------------------\n",
      "[[0.772 0.    0.    0.   ]\n",
      " [0.991 0.094 0.    0.   ]\n",
      " [0.655 0.554 0.162 0.   ]\n",
      " [0.391 0.819 0.039 0.734]]\n"
     ]
    }
   ],
   "source": [
    "# ÚKOL: pomocí vhodných funkcí z knihovny NumPy extrahujte z matice A její horní a dolní trojúhelníkovou část.\n",
    "U = np.triu(A)\n",
    "print(U)\n",
    "print(\"---------------------\")\n",
    "\n",
    "L = np.tril(A)\n",
    "print(L)\n",
    "\n",
    "# Ověřte funkčnost porovnáním s příslušnou částí matice A"
   ]
  },
  {
   "cell_type": "code",
   "execution_count": null,
   "metadata": {},
   "outputs": [],
   "source": []
  },
  {
   "cell_type": "code",
   "execution_count": 191,
   "metadata": {},
   "outputs": [
    {
     "name": "stdout",
     "output_type": "stream",
     "text": [
      "[0.912 0.972 0.528 0.964]\n"
     ]
    }
   ],
   "source": [
    "# ÚKOL: Vytvořte náhodný vektor b délky 4\n",
    "b = np.random.rand(4)\n",
    "\n",
    "print(b)"
   ]
  },
  {
   "attachments": {},
   "cell_type": "markdown",
   "metadata": {},
   "source": [
    "### Dopředná substituce\n",
    "\n",
    "Soustavu s dolní trojúhelníkovou maticí $\\mathsf{L}\\mathbf{x}=\\mathbf{b}$ můžeme efektivně řešit pomocí algoritmu dopředné substituce. \n",
    "\n",
    "1) Určíme první prvek vektoru řešení\n",
    "$$x_1 = b_1 / L_{1, 1}$$\n",
    "\n",
    "2) Zbývající prvky určíme jako \n",
    "$$\\forall i \\in \\{2, 3, \\ldots, m\\}: x_i = (b_i - \\sum_{j=1}^{i-1}L_{i, j} x_j) / L_{i, i}$$\n",
    "\n",
    "Na základě těchto předpisů doplňte chybějící části následujícího kódu. Nezapomeňte ale, že v Pythonu indexujeme od nuly."
   ]
  },
  {
   "cell_type": "code",
   "execution_count": 192,
   "metadata": {},
   "outputs": [],
   "source": [
    "# ÚKOL: Doplňte následující kód\n",
    "\n",
    "def f_subst(L, b):\n",
    "    m, n = L.shape           # pomocí vhodné funkce numpy uložte do proměnných m, n počet řádků a sloupců L\n",
    "    x = np.zeros(n)                # vytvořte vektor samých nul délky n\n",
    "    \n",
    "    x[0] = b[0] / L[0, 0]   # první prvek řešení\n",
    "\n",
    "    for i in range(1, m):\n",
    "\n",
    "        # nejdříve pomocí vnořeného for cyklu určíme hodnotu sumy z kroku 2:\n",
    "        suma = 0\n",
    "        for j in range(i):                        # doplňte vhodně meze smyčky\n",
    "            suma += L[i, j] * x[j]             # doplňte\n",
    "        \n",
    "        # odečteme sumu od prvku pravé strany a vydělíme diagonálním prvkem\n",
    "        x[i] = (b[i] - suma) / L[i, i] # doplňt e\n",
    "\n",
    "    return x\n"
   ]
  },
  {
   "cell_type": "code",
   "execution_count": 193,
   "metadata": {},
   "outputs": [
    {
     "name": "stdout",
     "output_type": "stream",
     "text": [
      "[ 1.181 -2.104  5.679  2.731]\n"
     ]
    }
   ],
   "source": [
    "# Otestujte pomocí L, b\n",
    "x = f_subst(L, b)\n",
    "print(x)"
   ]
  },
  {
   "cell_type": "code",
   "execution_count": 194,
   "metadata": {},
   "outputs": [
    {
     "name": "stdout",
     "output_type": "stream",
     "text": [
      "[ 1.181 -2.104  5.679  2.731]\n"
     ]
    }
   ],
   "source": [
    "# ÚKOL: určete řešení pomocí funkce solve z numpy a porovnejte s vašim řešením\n",
    "x_numpy = np.linalg.solve(L, b)\n",
    "print(x_numpy)"
   ]
  },
  {
   "attachments": {},
   "cell_type": "markdown",
   "metadata": {},
   "source": [
    "### Zpětná substituce\n",
    "\n",
    "K vyřešení soustavy s horní trojúhelníkovou maticí $\\mathsf{U}\\mathbf{x} = \\mathbf{b}$ potřebujeme implementovat také algoritmus zpětné substituce. Ten je podobný dopředné substituci, postupuje však od posledního řádku:\n",
    "\n",
    "1) Určíme poslední prvek vektoru řešení \n",
    "$$x_m = b_m / U_{m,m}$$\n",
    "2) Určíme zbývající prvky\n",
    "$$\\forall i \\in \\{m-1, m-2, \\ldots, 1\\}: x_i = (b_i - \\sum_{j=i+1}^{m}U_{i, j}x_j) / U_{i, i}$$\n",
    "\n",
    "Implementujte v následující buňce vaši verzi zpětné substituce."
   ]
  },
  {
   "attachments": {},
   "cell_type": "markdown",
   "metadata": {},
   "source": [
    "**Poznámka** Při implementaci se vám bude hodit vědět, že funkce range umožňuje iterovat i \"pozpátku\". Vyzkoušejte si v následující buňce vytisknout přes jaká *i* iterují tyto `for` cykly:\n",
    "- `for i in range(6, 0, -1)`\n",
    "- `for i in range(6, -1, -1)`\n",
    "- `for i in range(6, 0, -2)`\n",
    "- `for i in range(0, -6, -1)`"
   ]
  },
  {
   "cell_type": "code",
   "execution_count": 13,
   "metadata": {},
   "outputs": [
    {
     "name": "stdout",
     "output_type": "stream",
     "text": [
      "6\n",
      "5\n",
      "4\n",
      "3\n",
      "2\n",
      "1\n",
      "6\n",
      "5\n",
      "4\n",
      "3\n",
      "2\n",
      "1\n",
      "0\n",
      "6\n",
      "4\n",
      "2\n",
      "0\n",
      "-1\n",
      "-2\n",
      "-3\n",
      "-4\n",
      "-5\n"
     ]
    }
   ],
   "source": [
    "# ÚKOL: Vytiskněte proměnnou i z příkladů v předchozí buňce.\n",
    "for i in range(6, 0, -1):\n",
    "    print(i)\n",
    "for i in range(6, -1, -1):\n",
    "    print(i)\n",
    "for i in range(6, 0, -2):\n",
    "    print(i)\n",
    "for i in range(0, -6, -1):\n",
    "    print(i)"
   ]
  },
  {
   "cell_type": "code",
   "execution_count": 195,
   "metadata": {},
   "outputs": [],
   "source": [
    "# ÚKOL: Implementujte algoritmus zpětné substituce.\n",
    "\n",
    "def b_subst(U, b):\n",
    "    m, n = U.shape\n",
    "    x = np.zeros(n)\n",
    "    \n",
    "    x[-1] = b[-1] / U[-1, -1]\n",
    "\n",
    "    for i in range(m - 2, -1, -1):\n",
    "        suma = 0\n",
    "        for j in range(i + 1, m):\n",
    "            suma += U[i, j] * x[j]\n",
    "        x[i] = (b[i] - suma) / U[i, i]\n",
    "\n",
    "    return x"
   ]
  },
  {
   "cell_type": "code",
   "execution_count": 196,
   "metadata": {},
   "outputs": [
    {
     "name": "stdout",
     "output_type": "stream",
     "text": [
      "[-5.204 11.44  -0.348  1.313]\n",
      "[-5.204 11.44  -0.348  1.313]\n"
     ]
    }
   ],
   "source": [
    "# ÚKOL: ověřte pomocí numpy, že vaše funkce vrací správný výsledek\n",
    "\n",
    "x2 = b_subst(U, b)\n",
    "x2_numpy = np.linalg.solve(U, b) # doplňte\n",
    "print(x2)\n",
    "print(x2_numpy)"
   ]
  },
  {
   "attachments": {},
   "cell_type": "markdown",
   "metadata": {},
   "source": [
    "# Domácí úkol č. 1\n",
    "\n",
    "Algoritmus LU rozkladu lze popsat např. následujícím pseudokódem.\n",
    "\n",
    "```\n",
    "U = A, L = I\n",
    "for k = 1 to m-1 do\n",
    "    for j = k+1 to m do\n",
    "        L(j, k) = U(j, k)/U(k, k)\n",
    "        U(j, k:m) = U(j, k:m) - L(j, k)U(k, k:m)\n",
    "    end for\n",
    "end for\n",
    "```\n",
    "\n",
    "**Pozor**: značení `k:m` zde znamená sloupce od `k` po `m` *včetně*.\n",
    "\n",
    "Vašim úkolem je:\n",
    "1) Na základě uvedeného pseudokódu implementovat LU rozklad bez pivotizace do metody `L, U = my_lu(A)`. Metoda tedy bude mít na vstupu čtvercovou matici A a na výstupu dolní trojúhelníkovou matici L a horní trojúhelníkovou matici U takové, že `A = LU`.\n",
    "2) Sestavit náhodnou matici A o rozměrech 5x5 a pomocí ní ověřit, že vaše metoda funguje správně (`A - L @ U` by mělo vrátit matici s nulovými či velmi malými prvky).\n",
    "3) Sestavit náhodný vektor pravé strany `b` o délce 5. \n",
    "4) Pomocí vaší metody `my_lu` a na cvičení implementovaných metod `f_subst` a `b_subst` vyřešit soustavu `Ax = b`.\n",
    "5) Ověřit pomocí metody `np.linalg.solve`, že jste nalezli správné řešení. \n",
    "\n",
    "**Odevzdání**: Celý tento notebook s řešením zašlete na e-mail vyučujícího do 23. 3. 16:00. Jako předmět e-mailu uveďte \"NLA1 DU1\"."
   ]
  },
  {
   "cell_type": "code",
   "execution_count": 231,
   "metadata": {},
   "outputs": [],
   "source": [
    "# Doplňte podle bodu 1)\n",
    "\n",
    "def my_lu(A):\n",
    "    m, _ = A.shape\n",
    "    U = A.copy()\n",
    "    L = np.eye(m)\n",
    "    for k in range(m - 1):\n",
    "        for j in range(k + 1, m):\n",
    "            L[j, k] = U[j, k] / U[k, k]\n",
    "            U[j, k:m] = U[j, k:m] - L[j, k] * U[k, k:m]\n",
    "    return L, U\n"
   ]
  },
  {
   "cell_type": "code",
   "execution_count": 232,
   "metadata": {},
   "outputs": [
    {
     "name": "stdout",
     "output_type": "stream",
     "text": [
      "[[ 0.00e+00  0.00e+00  0.00e+00  0.00e+00  0.00e+00]\n",
      " [ 0.00e+00  0.00e+00  0.00e+00  0.00e+00  0.00e+00]\n",
      " [ 0.00e+00  0.00e+00 -1.11e-16  0.00e+00  0.00e+00]\n",
      " [ 0.00e+00  0.00e+00  0.00e+00  0.00e+00  0.00e+00]\n",
      " [ 0.00e+00  0.00e+00 -1.11e-16  1.11e-16  0.00e+00]]\n"
     ]
    }
   ],
   "source": [
    "# Doplňte podle bodu 2)\n",
    "A = np.random.rand(5, 5)\n",
    "L, U = my_lu(A)\n",
    "\n",
    "print(A - L @ U)"
   ]
  },
  {
   "cell_type": "code",
   "execution_count": 219,
   "metadata": {},
   "outputs": [],
   "source": [
    "# Doplňte podle bodu 3)\n",
    "b = np.random.rand(5)"
   ]
  },
  {
   "cell_type": "code",
   "execution_count": 238,
   "metadata": {},
   "outputs": [
    {
     "name": "stdout",
     "output_type": "stream",
     "text": [
      "[-2.634  5.17  -3.61   0.824  4.035]\n"
     ]
    }
   ],
   "source": [
    "# Doplňte podle bodu 4)\n",
    "L, U = my_lu(A)\n",
    "y = f_subst(L, b)\n",
    "x = b_subst(U, y)\n",
    "\n",
    "print(x)"
   ]
  },
  {
   "cell_type": "code",
   "execution_count": 239,
   "metadata": {},
   "outputs": [
    {
     "name": "stdout",
     "output_type": "stream",
     "text": [
      "[-2.634  5.17  -3.61   0.824  4.035]\n"
     ]
    }
   ],
   "source": [
    "# Doplňte podle bodu 5)\n",
    "print(np.linalg.solve(A, b))"
   ]
  }
 ],
 "metadata": {
  "kernelspec": {
   "display_name": "Python 3",
   "language": "python",
   "name": "python3"
  },
  "language_info": {
   "codemirror_mode": {
    "name": "ipython",
    "version": 3
   },
   "file_extension": ".py",
   "mimetype": "text/x-python",
   "name": "python",
   "nbconvert_exporter": "python",
   "pygments_lexer": "ipython3",
   "version": "3.10.6"
  },
  "orig_nbformat": 4
 },
 "nbformat": 4,
 "nbformat_minor": 2
}
