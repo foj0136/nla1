{
 "cells": [
  {
   "cell_type": "markdown",
   "metadata": {},
   "source": [
    "# Cvičení 1\n",
    "\n",
    "Začnemě opakováním základů programovacího jazyka Python, tzn. tvorbou a prací s proměnnými, cykly (`for`) a podmínkami (`if, else, elif`). Následně se zaměříme na knihovnu Numpy, která slouží k práci vektory a maticemi."
   ]
  },
  {
   "cell_type": "markdown",
   "metadata": {},
   "source": [
    "## Práce s buňkami v notebooku\n",
    "\n",
    "Připomeňme, že buňku (cell) s kódem v Jupyter Notebooku můžeme spustit těmito příkazy:\n",
    "- `Ctrl + Enter` - spustí daný řádek kódu\n",
    "- `Shift + Enter` - spustí daný řádek kódu a přejde na další řádek\n",
    "- `Alt + Enter` - spustí daný řádek kódu a vytvoří nový řádek pod ním\n",
    "\n",
    "Další možnost je využít tlačítko `Execute cell` vlevo nahoře od buňky."
   ]
  },
  {
   "cell_type": "markdown",
   "metadata": {},
   "source": [
    "## Základní aritmetické operace\n",
    "\n",
    "Notebook (resp. Python interpret samotný) můžeme využít jako kalkulátor k základním výpočtům. Výsledky nemusíme ukládat do proměnných. Zkuste spustit následující buňky."
   ]
  },
  {
   "cell_type": "code",
   "execution_count": 2,
   "metadata": {},
   "outputs": [
    {
     "data": {
      "text/plain": [
       "2"
      ]
     },
     "execution_count": 2,
     "metadata": {},
     "output_type": "execute_result"
    }
   ],
   "source": [
    "1+1"
   ]
  },
  {
   "cell_type": "code",
   "execution_count": 3,
   "metadata": {},
   "outputs": [
    {
     "data": {
      "text/plain": [
       "50"
      ]
     },
     "execution_count": 3,
     "metadata": {},
     "output_type": "execute_result"
    }
   ],
   "source": [
    "10*(2+3)"
   ]
  },
  {
   "cell_type": "code",
   "execution_count": 4,
   "metadata": {},
   "outputs": [
    {
     "ename": "NameError",
     "evalue": "name 'sin' is not defined",
     "output_type": "error",
     "traceback": [
      "\u001b[0;31m---------------------------------------------------------------------------\u001b[0m",
      "\u001b[0;31mNameError\u001b[0m                                 Traceback (most recent call last)",
      "\u001b[0;32m/tmp/ipykernel_7549/2886612542.py\u001b[0m in \u001b[0;36m<module>\u001b[0;34m\u001b[0m\n\u001b[0;32m----> 1\u001b[0;31m \u001b[0;36m3\u001b[0m\u001b[0;34m*\u001b[0m\u001b[0msin\u001b[0m\u001b[0;34m(\u001b[0m\u001b[0;36m3\u001b[0m\u001b[0;34m)\u001b[0m\u001b[0;34m\u001b[0m\u001b[0;34m\u001b[0m\u001b[0m\n\u001b[0m",
      "\u001b[0;31mNameError\u001b[0m: name 'sin' is not defined"
     ]
    }
   ],
   "source": [
    "3*sin(3)"
   ]
  },
  {
   "cell_type": "markdown",
   "metadata": {},
   "source": [
    "Předchozí buňku nebylo možné spustit. Abychom mohli využívat pokročilejší matematické operace, musíme importovat příslušnou knihovnu (v tomto případě math nebo numpy). Projděte si a spusťte následující buňky."
   ]
  },
  {
   "cell_type": "code",
   "execution_count": 5,
   "metadata": {},
   "outputs": [
    {
     "data": {
      "text/plain": [
       "0.4233600241796016"
      ]
     },
     "execution_count": 5,
     "metadata": {},
     "output_type": "execute_result"
    }
   ],
   "source": [
    "import math\n",
    "3*math.sin(3)           # Musíme volat s návzem knihovny \"math.\""
   ]
  },
  {
   "cell_type": "code",
   "execution_count": null,
   "metadata": {},
   "outputs": [],
   "source": [
    "from math import sin\n",
    "3*sin(math.pi)          # sin můžeme volat i bez návzu knihovny, před konstantu pi musíme stále  napsat \"math.\""
   ]
  },
  {
   "cell_type": "markdown",
   "metadata": {},
   "source": [
    "**Pozor**: Následující přístup sice funguje a načte vše z knihovny `math`, ale je považován za **špatný zvyk**. Nevíte, co vše se z knihovny načetlo, názvy importovaných proměnných a funkcí mohou **kolidovat** s vašimi názvy nebo s funkcemi načtenými z jiných knihoven.\n",
    "\n",
    "**Nevyužívejte**, pokud to není nezbytně nutné. "
   ]
  },
  {
   "cell_type": "code",
   "execution_count": 6,
   "metadata": {},
   "outputs": [
    {
     "data": {
      "text/plain": [
       "4.71238898038469"
      ]
     },
     "execution_count": 6,
     "metadata": {},
     "output_type": "execute_result"
    }
   ],
   "source": [
    "from math import *\n",
    "3*acos(sin(pi))         # Načte se vše z knihovny math, vše lze volat bez počátečního \"math.\""
   ]
  },
  {
   "cell_type": "markdown",
   "metadata": {},
   "source": [
    "## Proměnné \n",
    "\n",
    "Proměnné definujeme pomocí znaku `=`. Typ proměnné není nutné specifikovat (Python je dynamicky typovaný jazyk, typ proměnné určí interpret jazyka automaticky)."
   ]
  },
  {
   "cell_type": "code",
   "execution_count": 7,
   "metadata": {},
   "outputs": [
    {
     "name": "stdout",
     "output_type": "stream",
     "text": [
      "5\n",
      "3.141592653589793\n",
      "Hello world\n"
     ]
    }
   ],
   "source": [
    "a = 5\n",
    "b = math.pi\n",
    "c = \"Hello world\"\n",
    "\n",
    "print(a)\n",
    "print(b)\n",
    "print(c)"
   ]
  },
  {
   "cell_type": "markdown",
   "metadata": {},
   "source": [
    "Jakého typu je daná proměnná můžeme zjistit pomocí příkazu `type`."
   ]
  },
  {
   "cell_type": "code",
   "execution_count": 8,
   "metadata": {},
   "outputs": [
    {
     "name": "stdout",
     "output_type": "stream",
     "text": [
      "<class 'int'>\n",
      "<class 'float'>\n",
      "<class 'str'>\n"
     ]
    }
   ],
   "source": [
    "print(type(a))\n",
    "print(type(b))\n",
    "print(type(c))"
   ]
  },
  {
   "cell_type": "markdown",
   "metadata": {},
   "source": [
    "## `for` cyklus\n",
    "\n",
    "Pro cyklus s předem daným počtem iterací využíváme příkaz `for`. Základní použití je v kombinaci s příkazem `range`, pomocí kterého vytvoříme tzv. iterovatelný objekt:\n",
    "\n",
    "- `range(n)` - vytvoří iterovatelný objekt, který obsahuje čísla od 0 do n-1\n",
    "- `range(m, n)` - vytvoří iterovatelný objekt, který obsahuje čísla od m do n-1\n",
    "- `range(m, n, k)` - vytvoří iterovatelný objekt, který obsahuje čísla od m do n-1 s krokem k\n",
    "\n",
    "Následující kód iteruje od 0 do 5 a vypíše současnou hodnotu `i`."
   ]
  },
  {
   "cell_type": "code",
   "execution_count": 9,
   "metadata": {},
   "outputs": [
    {
     "name": "stdout",
     "output_type": "stream",
     "text": [
      "0\n",
      "1\n",
      "2\n",
      "3\n",
      "4\n",
      "5\n"
     ]
    }
   ],
   "source": [
    "for i in range(6):\n",
    "    print(i)"
   ]
  },
  {
   "cell_type": "code",
   "execution_count": 10,
   "metadata": {},
   "outputs": [
    {
     "name": "stdout",
     "output_type": "stream",
     "text": [
      "2\n",
      "4\n",
      "6\n",
      "8\n",
      "10\n"
     ]
    }
   ],
   "source": [
    "# UKOL: Doplňte kód, který vypíše sudá čísla od 2 do 10 (včetně):\n",
    "for x in range(2, 11, 2):\n",
    "    print(x)"
   ]
  },
  {
   "cell_type": "markdown",
   "metadata": {},
   "source": [
    "## Podmínky\n",
    "\n",
    "K vytváření podmíněných bloků kódu slouží příkazy `if`, `else`, `elif`.\n",
    "\n",
    "K porovnávání mezi hodnotami používáme operátory `==`, `>=`, `<=`, `>`, `<`, `!=`"
   ]
  },
  {
   "cell_type": "code",
   "execution_count": 11,
   "metadata": {},
   "outputs": [
    {
     "name": "stdout",
     "output_type": "stream",
     "text": [
      "acos(x) = 1.0471975511965979\n"
     ]
    }
   ],
   "source": [
    "x = 0.5\n",
    "\n",
    "if (abs(x) <= 1):\n",
    "    y = math.acos(x)\n",
    "    print(\"acos(x) = {}\".format(y))\n",
    "else:\n",
    "    print(\"Hodnota proměnné je mimo definiční obor funkce.\")"
   ]
  },
  {
   "cell_type": "code",
   "execution_count": 12,
   "metadata": {},
   "outputs": [
    {
     "name": "stdout",
     "output_type": "stream",
     "text": [
      "1\n",
      "Liché číslo\n",
      "2\n",
      "Sudé číslo\n",
      "3\n",
      "Liché číslo\n",
      "4\n",
      "Sudé číslo\n",
      "5\n",
      "Liché číslo\n",
      "6\n",
      "Sudé číslo\n",
      "7\n",
      "Liché číslo\n",
      "8\n",
      "Sudé číslo\n",
      "9\n",
      "Liché číslo\n",
      "10\n",
      "Sudé číslo\n",
      "11\n",
      "Liché číslo\n",
      "12\n",
      "Sudé číslo\n",
      "13\n",
      "Liché číslo\n",
      "14\n",
      "Sudé číslo\n",
      "15\n",
      "Liché číslo\n",
      "16\n",
      "Sudé číslo\n",
      "17\n",
      "Liché číslo\n",
      "18\n",
      "Sudé číslo\n",
      "19\n",
      "Liché číslo\n",
      "20\n",
      "Sudé číslo\n"
     ]
    }
   ],
   "source": [
    "\"\"\" \n",
    "UKOL: Doplňte následující kód tak, aby \n",
    "1) smyčka iterovala od 1 do 20 včetně\n",
    "2) vypsal aktuální i\n",
    "3) pokud je aktuální i sudé, vypsal na dalším řádku \"Sudé číslo\"\n",
    "4) pokud je aktuální i liché, vypsal na dalším řádku \"Liché číslo\"\n",
    "\n",
    "K určení toho, zda je číslo sudé, potřebujete modulo operátor % - zbytek po \n",
    "celočíselném deleni. (zbytek = delenec % delitel) \n",
    "\n",
    "\"\"\"\n",
    "\n",
    "for i in range(1, 21):\n",
    "    print(i, \"\\n\", \"Sudé\" if i % 2 == 0 else \"Liché\", \" číslo\", sep=\"\")"
   ]
  },
  {
   "cell_type": "markdown",
   "metadata": {},
   "source": [
    "## Knihovna NumPy\n",
    "\n",
    "V tomto kurzu budeme pracovat hlavně s knihovnou `NumPy`, základní knihovnou pro vědecké výpočty v Pythonu. Umožňuje nám manipulaci s vektory a maticemi, implementuje operace mezi nimi či maticové rozklady."
   ]
  },
  {
   "cell_type": "code",
   "execution_count": 13,
   "metadata": {},
   "outputs": [],
   "source": [
    "import numpy as np      #  np je běžně využívaná zkratka pro numpy"
   ]
  },
  {
   "cell_type": "markdown",
   "metadata": {},
   "source": [
    "Matice a vektory můžeme vytvořit např. pomocí:\n",
    "\n",
    "- `np.array()` - vytvoří vektor/matici z listu\n",
    "- `np.zeros()` - vytvoří vektor/matici o daných rozměrech, která je naplněna nulami\n",
    "- `np.ones()` - vytvoří vektor/matici o daných rozměrech, která je naplněna jedničkami\n",
    "- `np.linspace()` - vytvoří vektor o daných rozměrech, který obsahuje čísla od m do n-1 s krokem k\n",
    "- `np.eye()` - vytvoří jednotkovou matici o daných rozměrech\n",
    "- `np.random.rand()` - vytvoří vektor/matici o daných rozměrech, která je naplněna náhodnými čísly z intervalu [0, 1)\n",
    "\n",
    "(Vzpomeňte si, že dokumentaci k jednotlivým funkcím s detailnějším popisem můžete zavolat pomocí příkazu `help`, např. `help(np.linspace)`)\n",
    "\n",
    "Příklady použití:"
   ]
  },
  {
   "cell_type": "code",
   "execution_count": 14,
   "metadata": {},
   "outputs": [
    {
     "name": "stdout",
     "output_type": "stream",
     "text": [
      "[1 2 3 4]\n"
     ]
    }
   ],
   "source": [
    "b = np.array([1, 2, 3, 4])\n",
    "print(b)"
   ]
  },
  {
   "cell_type": "code",
   "execution_count": 15,
   "metadata": {},
   "outputs": [
    {
     "name": "stdout",
     "output_type": "stream",
     "text": [
      "[[1 2 3]\n",
      " [4 5 6]]\n"
     ]
    }
   ],
   "source": [
    "A = np.array([[1, 2, 3], [4, 5, 6]])\n",
    "print(A) "
   ]
  },
  {
   "cell_type": "code",
   "execution_count": 16,
   "metadata": {},
   "outputs": [
    {
     "name": "stdout",
     "output_type": "stream",
     "text": [
      "[1. 1. 1. 1.]\n"
     ]
    }
   ],
   "source": [
    "e = np.ones(4)\n",
    "print(e)"
   ]
  },
  {
   "cell_type": "code",
   "execution_count": 17,
   "metadata": {},
   "outputs": [
    {
     "name": "stdout",
     "output_type": "stream",
     "text": [
      "[[1. 0. 0. 0. 0.]\n",
      " [0. 1. 0. 0. 0.]\n",
      " [0. 0. 1. 0. 0.]\n",
      " [0. 0. 0. 1. 0.]\n",
      " [0. 0. 0. 0. 1.]]\n"
     ]
    }
   ],
   "source": [
    "I = np.eye(5)\n",
    "print(I)"
   ]
  },
  {
   "cell_type": "code",
   "execution_count": 32,
   "metadata": {},
   "outputs": [
    {
     "name": "stdout",
     "output_type": "stream",
     "text": [
      "[[0. 0. 0.]\n",
      " [0. 0. 0.]\n",
      " [0. 0. 0.]\n",
      " [0. 0. 0.]]\n",
      "[2 4 0 4]\n",
      "[0.         0.55555556 1.11111111 1.66666667 2.22222222 2.77777778\n",
      " 3.33333333 3.88888889 4.44444444 5.        ]\n"
     ]
    }
   ],
   "source": [
    "\"\"\"\n",
    "ÚKOL: \n",
    "1) Vytvořte matici A samých nul, která má 4 řádky a 3 sloupce.\n",
    "2) Vytvořte náhodný vektor b o čtyřech prvcích.\n",
    "3) Vytvořte vektor v obsahující 10 čísel rovnoměrně rozmístěných mezi 0 a 5 včetně.\n",
    "\"\"\"\n",
    "\n",
    "A = np.zeros((4, 3))\n",
    "b = np.random.randint(0, 10, size=(4))\n",
    "v = np.linspace(0, 5, 10)\n",
    "print(A, b, v, sep=\"\\n\")"
   ]
  },
  {
   "cell_type": "markdown",
   "metadata": {},
   "source": [
    "Chceme-li přistupovat k prvkům matice či vektoru v NumPy, využíváme hranaté závorky `[]` a indexujeme od nuly. "
   ]
  },
  {
   "cell_type": "code",
   "execution_count": 34,
   "metadata": {},
   "outputs": [
    {
     "name": "stdout",
     "output_type": "stream",
     "text": [
      "[0 1 2 3 4]\n",
      "1\n",
      "[0 1 2]\n",
      "[0 2 4]\n",
      "[1 3]\n",
      "4\n"
     ]
    }
   ],
   "source": [
    "b = np.array([0, 1, 2, 3, 4])\n",
    "print(b)\n",
    "\n",
    "x = b[1]        # druhý prvek vektoru b\n",
    "print(x)\n",
    "\n",
    "x = b[0:3]      # prvky na pozicích 0 až 2\n",
    "print(x)\n",
    "\n",
    "x = b[0:5:2]    # každý druhý prvek vektoru, (zopakujme syntaxi: x = b[start:end+1:krok])\n",
    "print(x)\n",
    "\n",
    "x = b[[1, 3]]   # prvky na pozicích 1, 3\n",
    "print(x)\n",
    "\n",
    "x = b[-1]       # můžeme indexovat odzadu, indexem -1 získáme poslední prvek, -2 předposlední, atd.\n",
    "print(x)"
   ]
  },
  {
   "cell_type": "code",
   "execution_count": 35,
   "metadata": {},
   "outputs": [
    {
     "name": "stdout",
     "output_type": "stream",
     "text": [
      "[[1 2 3 4]\n",
      " [5 6 7 8]]\n",
      "1\n",
      "8\n",
      "[2 3]\n"
     ]
    }
   ],
   "source": [
    "A = np.array([[1, 2, 3, 4], [5, 6, 7, 8]])\n",
    "print(A)\n",
    "\n",
    "a = A[0, 0]         # prvek na pozici (0, 0)\n",
    "print(a)\n",
    "\n",
    "a = A[1, 3]         # prvek na pozici (1, 3)\n",
    "print(a)\n",
    "\n",
    "B = A[0, 1:3]       # prvky na prvním řádku v druhém až třetím sloupci (v řeči indexů - na 0. řádku a 1. až 3. sloupci bez 3. sloupce)\n",
    "print(B)"
   ]
  },
  {
   "cell_type": "code",
   "execution_count": 36,
   "metadata": {},
   "outputs": [
    {
     "name": "stdout",
     "output_type": "stream",
     "text": [
      "[[0 3 6 3 6]\n",
      " [9 3 2 1 6]\n",
      " [4 1 3 8 1]\n",
      " [7 0 2 5 9]\n",
      " [4 6 9 4 7]]\n",
      "[4 6 9 4 7]\n",
      "[9 6]\n"
     ]
    }
   ],
   "source": [
    "\"\"\"\n",
    "ÚKOL: \n",
    "1) Vytvořte náhodnou matici o rozměrech 5x5.\n",
    "2) Do vektoru v uložte poslední řádek matice, vektor vytiskněte.\n",
    "3) Do vektoru u uložte prvky na druhém řádku matice v prvním a posledním sloupci, vytiskněte.\n",
    "\"\"\"\n",
    "\n",
    "A = np.random.randint(0, 10, size=(5, 5))\n",
    "print(A)\n",
    "v = A[-1]\n",
    "print(v)\n",
    "u = A[1, [0, -1]]\n",
    "print(u)"
   ]
  },
  {
   "cell_type": "markdown",
   "metadata": {},
   "source": [
    "Vektory v NumPy mohou být reprezentovány jako \n",
    "1) 1D pole, např. `x = np.array([1, 2, 3])` nebo `y = ones(6)`\n",
    "2) 2D pole ve formě řádku, např. `x = np.array([[1, 2, 3]])` nebo `y = np.zeros((1, 4))`\n",
    "3) 2D pole ve formě sloupce, např. `x = np.array([[1], [2], [3]])`, `y = np.zeros((5, 1))` nebo `y = np.array([[1, 2, 3]]).T`\n",
    "\n",
    "Vzhledem k tomu, že vektory budeme využívat zejména k účelům algoritmů lineární algebry, doporučuji vám je rovnou vytvářet ve 2D formě jako řádek nebo sloupec. Další možnost je vytvořit 1D pole a to _reshapovat_ na správné rozměry."
   ]
  },
  {
   "cell_type": "code",
   "execution_count": 38,
   "metadata": {},
   "outputs": [
    {
     "name": "stdout",
     "output_type": "stream",
     "text": [
      "[[1]\n",
      " [2]\n",
      " [3]]\n",
      "(3, 1)\n",
      "---------------------\n",
      "[1 2 3]\n",
      "(3,)\n"
     ]
    }
   ],
   "source": [
    "x = np.array([1, 2, 3])     # vytvoří 1D pole (ani řádek, ani sloupec)\n",
    "x = x.reshape(3, 1)         # konvertuje x na 2D sloupcový vektor\n",
    "print(x)\n",
    "print(np.shape(x))          # vytiskne rozměry x \n",
    "\n",
    "print(\"---------------------\")\n",
    "\n",
    "y = np.array([1, 2, 3]).T   # vytvoříme řádkový vektor a transponujeme jej\n",
    "print(y)\n",
    "print(np.shape(y))"
   ]
  },
  {
   "cell_type": "code",
   "execution_count": 39,
   "metadata": {},
   "outputs": [
    {
     "name": "stdout",
     "output_type": "stream",
     "text": [
      "13.784048752090222\n",
      "[[27]]\n",
      "[[  0]\n",
      " [  5]\n",
      " [-10]\n",
      " [ -7]\n",
      " [ 17]]\n"
     ]
    }
   ],
   "source": [
    "\"\"\"\n",
    "ÚKOL: \n",
    "1) Vytvořte náhodný sloupcový vektor x délky 5 a náhodný řádkový vektor y délky 5\n",
    "2) Pomocí vhodných funkcí z knihovny NumPy určete \n",
    "    - normu vektoru x\n",
    "    - skalární součin vektoru y s vektorem x\n",
    "    - součet vektoru x s transpozicí vektoru y\n",
    "\"\"\"\n",
    "\n",
    "x = np.random.randint(-9, 10, size=(5, 1))\n",
    "y = np.random.randint(-9, 10, size=(1, 5))\n",
    "\n",
    "print(np.linalg.norm(x))\n",
    "print(y @ x)\n",
    "print(x + y.T)"
   ]
  },
  {
   "cell_type": "code",
   "execution_count": 40,
   "metadata": {},
   "outputs": [
    {
     "name": "stdout",
     "output_type": "stream",
     "text": [
      "[13.78404875]\n",
      "[27]\n"
     ]
    }
   ],
   "source": [
    "\"\"\"\n",
    "ÚKOL:\n",
    "Vypočítejte nyní normu vektoru x a skalární součin y*x \"manuálně\" pomocí cyklů for.\n",
    "\"\"\"\n",
    "\n",
    "norma = 0\n",
    "for n in x:\n",
    "    norma += n**2\n",
    "norma = np.sqrt(norma)\n",
    "print(norma)\n",
    "\n",
    "skal_soucin = 0\n",
    "for i, j in zip(y.T, x):\n",
    "    skal_soucin += i * j\n",
    "print(skal_soucin)\n"
   ]
  },
  {
   "cell_type": "markdown",
   "metadata": {},
   "source": [
    "NumPy podporuje také samozřejmě také násobení matice s vektorem či matice s maticí. K tomu lze využít funkci `matmul` nebo operátor `@`."
   ]
  },
  {
   "cell_type": "code",
   "execution_count": 41,
   "metadata": {},
   "outputs": [
    {
     "name": "stdout",
     "output_type": "stream",
     "text": [
      "[[3.]\n",
      " [3.]\n",
      " [3.]]\n",
      "[[3.]\n",
      " [3.]\n",
      " [3.]]\n",
      "[[0.89206511 2.0597051  1.59190391]\n",
      " [0.89206511 2.0597051  1.59190391]\n",
      " [0.89206511 2.0597051  1.59190391]]\n"
     ]
    }
   ],
   "source": [
    "A = np.ones((3, 3))\n",
    "x = np.array([0, 1, 2])\n",
    "x = x.reshape(3, 1)         # převedeme x na sloupcový vektor abychom jím mohli násobit matici zprava\n",
    "\n",
    "y = np.matmul(A, x)         # násobení pomocí matmul\n",
    "print(y)\n",
    "\n",
    "z = A @ x                   # násobení pomocí operátoru @\n",
    "print(y)\n",
    "\n",
    "B = np.random.rand(3, 3)\n",
    "C = np.matmul(A, B)\n",
    "print(C)"
   ]
  },
  {
   "cell_type": "code",
   "execution_count": 43,
   "metadata": {},
   "outputs": [],
   "source": [
    "\"\"\"\n",
    "ÚKOL:\n",
    "Do funkce muj_matvec implementujte vaši verzi násobení matice s vektorem.\n",
    "Využijte dvě vnořené smyčky for. Na vstupu bude matice A a sloupcový vektor x \n",
    "odpovídající délky. Funkce bude vracet vektor y = Ax.\n",
    "\"\"\"\n",
    "\n",
    "\n",
    "def muj_matvec(A, x):\n",
    "    # tuple unpacking, m obsahuje počet řádků, n počet sloupců matice A\n",
    "    m, n = np.shape(A)\n",
    "    y = np.zeros((m, 1))\n",
    "    for i in range(m):\n",
    "        for j in range(n):\n",
    "            y[i] += A[i, j] * x[j]\n",
    "\n",
    "    return y\n"
   ]
  },
  {
   "cell_type": "code",
   "execution_count": 48,
   "metadata": {},
   "outputs": [
    {
     "name": "stdout",
     "output_type": "stream",
     "text": [
      "[[0.44062796]\n",
      " [1.26872419]\n",
      " [1.60003487]]\n",
      "[[0.44062796]\n",
      " [1.26872419]\n",
      " [1.60003487]]\n"
     ]
    }
   ],
   "source": [
    "# Zde si voláním funkce ověřte, zda funguje správně:\n",
    "\n",
    "A = np.random.rand(3, 4)\n",
    "x = np.random.rand(4, 1)\n",
    "y = muj_matvec(A, x)\n",
    "print(y)        # vytiskneme výsledek z vaší funkce\n",
    "\n",
    "yy = A @ x\n",
    "print(yy)       # porovnejte s voláním zabudované numpy funkce"
   ]
  },
  {
   "cell_type": "code",
   "execution_count": 53,
   "metadata": {},
   "outputs": [
    {
     "name": "stdout",
     "output_type": "stream",
     "text": [
      "CPU times: user 6.95 ms, sys: 12.1 ms, total: 19 ms\n",
      "Wall time: 5.11 ms\n",
      "CPU times: user 143 µs, sys: 1e+03 ns, total: 144 µs\n",
      "Wall time: 57.5 µs\n"
     ]
    }
   ],
   "source": [
    "# Porovnáme časy výpočtu pomocí vaší funkce a zabudované numpy funkce\n",
    "\n",
    "A = np.random.rand(2000, 2000)\n",
    "x = np.random.rand(2000, 1)\n",
    "\n",
    "# otestujeme vaši implementaci \n",
    "%time y = muj_matvec(A, x)\n",
    "\n",
    "# otestujeme zabudovanou implementaci\n",
    "%time yy = A @ x"
   ]
  },
  {
   "cell_type": "markdown",
   "metadata": {},
   "source": [
    "`Dovolil jsem si vyměnit Python kód za Jupyter Magics kvůli přehlednosti. Dále jsem potřeboval na svém počítači přepsat dvoutisíce na dvacítky, jinak bych se výsledku nedočkal.`"
   ]
  },
  {
   "cell_type": "markdown",
   "metadata": {},
   "source": [
    "Implementujte nyní násobení matice-vektor na základě předpisu $$A\\mathbf{x} = \\sum_{i=1}^n x_i \\mathbf{a}_i,$$\n",
    "kde $\\mathbf{a}_i$ je $i$-tý sloupec matice $A$ a $x_i$ je příslušný prvek vektoru $\\mathbf{x}$.\n",
    "\n",
    "Nápověda: budete-li chtít vytáhnout sloupec matice pomocí příkazu `A[:, i]`, NumPy redukuje dimenzi a vrátí 1D vektor. Pro získání 2D sloupcového vektoru je třeba zavolat `A[:, [i]]`."
   ]
  },
  {
   "cell_type": "code",
   "execution_count": 54,
   "metadata": {},
   "outputs": [
    {
     "data": {
      "text/plain": [
       "array([[4.85066946],\n",
       "       [4.13526665],\n",
       "       [4.39149362],\n",
       "       [5.00557273],\n",
       "       [6.03582754],\n",
       "       [4.75633658],\n",
       "       [4.34428547],\n",
       "       [4.4987934 ],\n",
       "       [3.99665248],\n",
       "       [4.83068081],\n",
       "       [4.48180242],\n",
       "       [4.53271975],\n",
       "       [4.88145932],\n",
       "       [3.09921592],\n",
       "       [4.28076359],\n",
       "       [5.00607936],\n",
       "       [3.74969464],\n",
       "       [3.77844957],\n",
       "       [4.04698506],\n",
       "       [2.89170935]])"
      ]
     },
     "execution_count": 54,
     "metadata": {},
     "output_type": "execute_result"
    }
   ],
   "source": [
    "# ÚKOL: Doplňte implementaci.\n",
    "\n",
    "def muj_matvec_v2(A, x):\n",
    "    m, n = A.shape\n",
    "    y = np.zeros((m, 1))\n",
    "    for i in range(n):\n",
    "        y += x[i] * A[:, [i]]\n",
    "    return y\n",
    "\n",
    "muj_matvec_v2(A, x)"
   ]
  },
  {
   "cell_type": "code",
   "execution_count": 87,
   "metadata": {},
   "outputs": [
    {
     "name": "stdout",
     "output_type": "stream",
     "text": [
      "[[1.65795682]\n",
      " [0.96839684]\n",
      " [0.61926407]]\n",
      "[[1.65795682]\n",
      " [0.96839684]\n",
      " [0.61926407]]\n",
      "[[1.65795682]\n",
      " [0.96839684]\n",
      " [0.61926407]]\n"
     ]
    }
   ],
   "source": [
    "# Ověřte funkčnost :\n",
    "\n",
    "A = np.random.rand(3, 4)\n",
    "x = np.random.rand(4, 1)\n",
    "\n",
    "y = muj_matvec(A, x)\n",
    "print(y)\n",
    "\n",
    "yy = muj_matvec_v2(A, x)\n",
    "print(yy)\n",
    "\n",
    "yyy = A @ x\n",
    "print(yyy)"
   ]
  },
  {
   "cell_type": "code",
   "execution_count": 57,
   "metadata": {
    "scrolled": true
   },
   "outputs": [
    {
     "name": "stdout",
     "output_type": "stream",
     "text": [
      "CPU times: user 48.4 ms, sys: 0 ns, total: 48.4 ms\n",
      "Wall time: 48.4 ms\n",
      "CPU times: user 5.18 ms, sys: 4 ms, total: 9.17 ms\n",
      "Wall time: 3.13 ms\n"
     ]
    }
   ],
   "source": [
    "# Otestujte na stejně velké matici jako vaši předchozí verzi a porovnejte výpočetní časy. \n",
    "# Liší se časy významně? Pokud ano, pokuste se zdůvodnit proč.\n",
    "\n",
    "A = np.random.rand(2000, 2000)\n",
    "x = np.random.rand(2000, 1)\n",
    "\n",
    "# otestujeme vaši implementaci\n",
    "%time y = muj_matvec_v2(A, x)\n",
    "\n",
    "# otestujeme zabudovanou implementaci\n",
    "%time yy = A @ x"
   ]
  },
  {
   "cell_type": "code",
   "execution_count": 99,
   "metadata": {},
   "outputs": [],
   "source": [
    "# Bonus: Pokuste se implementovat funkci mat_mat, která bude násobit dvě matice. \n",
    "# Porovnejte výkon s funkcí z knihovny NumPy.\n",
    "def mat_mat(A, B):\n",
    "    assert(A.shape[1] == B.shape[0])\n",
    "    m, n = A.shape[0], B.shape[1]\n",
    "    C = np.zeros((m, n))\n",
    "    for i in range(n):\n",
    "        C[:, i] = muj_matvec_v2(A, B[:, i]).ravel()"
   ]
  },
  {
   "cell_type": "code",
   "execution_count": 103,
   "metadata": {},
   "outputs": [
    {
     "name": "stdout",
     "output_type": "stream",
     "text": [
      "CPU times: user 1min 24s, sys: 78.1 ms, total: 1min 24s\n",
      "Wall time: 1min 24s\n",
      "CPU times: user 1.62 s, sys: 39.9 ms, total: 1.66 s\n",
      "Wall time: 434 ms\n"
     ]
    }
   ],
   "source": [
    "A = np.random.rand(2000, 2000)\n",
    "B = np.random.rand(2000, 2000)\n",
    "\n",
    "%time y = mat_mat(A, B)\n",
    "\n",
    "%time yy = A @ B"
   ]
  }
 ],
 "metadata": {
  "kernelspec": {
   "display_name": "Python 3 (ipykernel)",
   "language": "python",
   "name": "python3"
  },
  "language_info": {
   "codemirror_mode": {
    "name": "ipython",
    "version": 3
   },
   "file_extension": ".py",
   "mimetype": "text/x-python",
   "name": "python",
   "nbconvert_exporter": "python",
   "pygments_lexer": "ipython3",
   "version": "3.10.6"
  },
  "vscode": {
   "interpreter": {
    "hash": "b0fa6594d8f4cbf19f97940f81e996739fb7646882a419484c72d19e05852a7e"
   }
  }
 },
 "nbformat": 4,
 "nbformat_minor": 2
}
